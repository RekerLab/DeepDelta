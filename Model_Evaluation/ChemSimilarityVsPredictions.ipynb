{
  "cells": [
    {
      "cell_type": "code",
      "execution_count": null,
      "metadata": {
        "id": "AF6q26B7t91J"
      },
      "outputs": [],
      "source": [
        "#Import Libraries\n",
        "import pandas as pd\n",
        "import numpy as np\n",
        "from rdkit import Chem\n",
        "from rdkit.Chem import AllChem, DataStructs\n",
        "from rdkit.Chem.Scaffolds import MurckoScaffold \n",
        "import math\n",
        "import matplotlib.colors\n",
        "import matplotlib.pyplot as plt\n",
        "import matplotlib.lines as mlines\n",
        "import matplotlib.transforms as mtransforms\n",
        "from sklearn import metrics\n",
        "from scipy import stats as stats\n",
        "from google.colab import files\n",
        "%matplotlib inline "
      ]
    },
    {
      "cell_type": "code",
      "execution_count": null,
      "metadata": {
        "id": "MZNTzE-5ohFQ"
      },
      "outputs": [],
      "source": [
        "### Process Data \n",
        "# Read Local CSV\n",
        "# names = ['FUBrain', 'RenClear', 'FreeSolv', 'MicroClear', 'HemoTox', 'HepClear', 'Caco2', 'Sol', 'VDss', 'HalfLifeMWAdjusted']\n",
        "name = \"HalfLifeMWAdjusted\"\n",
        "dataframe = pd.read_csv(\"{}.csv\".format(name))\n",
        "\n",
        "# Prepare Fingerprints\n",
        "mols = [Chem.MolFromSmiles(s) for s in dataframe.SMILES]\n",
        "fps = [np.array(AllChem.GetMorganFingerprintAsBitVect(m,2)) for m in mols]\n",
        "dataframe[\"Fingerprint\"] = fps\n",
        "data = pd.DataFrame(data={'FP':  dataframe.Fingerprint.to_numpy()})\n",
        "del dataframe"
      ]
    },
    {
      "cell_type": "code",
      "execution_count": null,
      "metadata": {
        "colab": {
          "base_uri": "https://localhost:8080/"
        },
        "id": "aL11F4eSCCbQ",
        "outputId": "c5c4d5dc-b2c3-42e9-c569-ba7ed040a15a"
      },
      "outputs": [
        {
          "name": "stdout",
          "output_type": "stream",
          "text": [
            "(489, 4, 8)\n",
            "(44, 0, 0)\n"
          ]
        }
      ],
      "source": [
        "# Set up for cross validation\n",
        "from sklearn.model_selection import KFold\n",
        "cv = KFold(n_splits=10, random_state=1, shuffle=True)\n",
        "\n",
        "# use garbage collection to save on space\n",
        "import gc\n",
        "print(gc.get_count())\n",
        "gc.collect()\n",
        "print(gc.get_count())\n",
        "\n",
        "# Perform cross validation and save the fingerprints from this\n",
        "FA = []\n",
        "FB = []\n",
        "\n",
        "for train_index, test_index in cv.split(data):\n",
        "\n",
        "  train_df = data[data.index.isin(train_index)]\n",
        "  test_df = data[data.index.isin(test_index)]\n",
        "  pair_subset_test = pd.merge(test_df, test_df, how='cross')\n",
        "  FA += [pair_subset_test.FP_x]\n",
        "  FB += [pair_subset_test.FP_y]\n",
        "  del pair_subset_test"
      ]
    },
    {
      "cell_type": "code",
      "execution_count": null,
      "metadata": {
        "id": "HRINTsfJZie5"
      },
      "outputs": [],
      "source": [
        "# Calculate the similarity values\n",
        "similarity_list = []\n",
        "for i in range(len(np.concatenate(FA))):\n",
        "  similarity_list.append(DataStructs.TanimotoSimilarity(DataStructs.cDataStructs.CreateFromBitString(\"\".join(np.concatenate(FA)[i].astype(str))), DataStructs.cDataStructs.CreateFromBitString(\"\".join(np.concatenate(FB)[i].astype(str)))))\n"
      ]
    },
    {
      "cell_type": "code",
      "execution_count": null,
      "metadata": {
        "colab": {
          "base_uri": "https://localhost:8080/",
          "height": 34
        },
        "id": "r2ouYEhkAh8J",
        "outputId": "65095934-dfc9-4fed-cb26-cfba2179e046"
      },
      "outputs": [
        {
          "data": {
            "application/javascript": "\n    async function download(id, filename, size) {\n      if (!google.colab.kernel.accessAllowed) {\n        return;\n      }\n      const div = document.createElement('div');\n      const label = document.createElement('label');\n      label.textContent = `Downloading \"${filename}\": `;\n      div.appendChild(label);\n      const progress = document.createElement('progress');\n      progress.max = size;\n      div.appendChild(progress);\n      document.body.appendChild(div);\n\n      const buffers = [];\n      let downloaded = 0;\n\n      const channel = await google.colab.kernel.comms.open(id);\n      // Send a message to notify the kernel that we're ready.\n      channel.send({})\n\n      for await (const message of channel.messages) {\n        // Send a message to notify the kernel that we're ready.\n        channel.send({})\n        if (message.buffers) {\n          for (const buffer of message.buffers) {\n            buffers.push(buffer);\n            downloaded += buffer.byteLength;\n            progress.value = downloaded;\n          }\n        }\n      }\n      const blob = new Blob(buffers, {type: 'application/binary'});\n      const a = document.createElement('a');\n      a.href = window.URL.createObjectURL(blob);\n      a.download = filename;\n      div.appendChild(a);\n      a.click();\n      div.remove();\n    }\n  ",
            "text/plain": [
              "<IPython.core.display.Javascript object>"
            ]
          },
          "metadata": {},
          "output_type": "display_data"
        },
        {
          "data": {
            "application/javascript": "download(\"download_3bc6695b-9b2b-4d04-98e4-e2c37bd132ea\", \"HalfLifeMWAdjusted_CV_Similarity_Scores.csv\", 3237487)",
            "text/plain": [
              "<IPython.core.display.Javascript object>"
            ]
          },
          "metadata": {},
          "output_type": "display_data"
        }
      ],
      "source": [
        "#Export the csv\n",
        "dataframe = pd.DataFrame(similarity_list)\n",
        "dataframe.rename(columns={0: 'Tanimoto'}, inplace = True)\n",
        "dataframe.to_csv('{}_CV_Similarity_Scores.csv'.format(name), index = False)\n",
        "files.download(\"{}_CV_Similarity_Scores.csv\".format(name))"
      ]
    },
    {
      "cell_type": "markdown",
      "metadata": {
        "id": "--sO0E1bJL-8"
      },
      "source": [
        "Calculate Mean Absolute Difference for CV Results"
      ]
    },
    {
      "cell_type": "code",
      "execution_count": null,
      "metadata": {
        "id": "dUvZ5lXJJLY2"
      },
      "outputs": [],
      "source": [
        "#LGBM\n",
        "name = 'RenClear'\n",
        "model = 'LGBM'\n",
        "scores = pd.read_csv('{}_CV_LGBM_Delta_Scores.csv'.format(name))\n",
        "scores[\"MAD\"] = abs(scores[\"trues\"] - scores[\"preds\"])\n"
      ]
    },
    {
      "cell_type": "code",
      "execution_count": null,
      "metadata": {
        "id": "B21EtsouGRJO"
      },
      "outputs": [],
      "source": [
        "#ChemProp\n",
        "name = 'Sol'\n",
        "model = 'ChemProp'\n",
        "scores = pd.read_csv(\"Sol_DM_10fCV_1_5_sum_comparison_ChemSim.csv\").T\n",
        "scores.columns =['True', 'Delta', 'Traditional']\n",
        "scores[\"MAD\"] = abs(scores[\"True\"] - scores[\"Delta\"])"
      ]
    },
    {
      "cell_type": "markdown",
      "metadata": {
        "id": "XBFXokbtAbod"
      },
      "source": [
        "Plotting"
      ]
    },
    {
      "cell_type": "code",
      "execution_count": null,
      "metadata": {
        "id": "k3KbZejTI-le"
      },
      "outputs": [],
      "source": [
        "sim = pd.read_csv('{}_CV_Similarity_Scores.csv'.format(name))"
      ]
    },
    {
      "cell_type": "code",
      "execution_count": null,
      "metadata": {},
      "outputs": [],
      "source": [
        "### Plotting ###\n",
        "fig, ax = plt.subplots()\n",
        "\n",
        "ax.hexbin(scores[\"MAD\"], (1 - sim['Tanimoto']), gridsize=(100),\n",
        "                norm=matplotlib.colors.LogNorm(), mincnt=1)\n",
        "fig.colorbar(ax.hexbin(scores[\"MAD\"], (1 - sim['Tanimoto']), gridsize=(100),\n",
        "                norm=matplotlib.colors.LogNorm(), mincnt=1))\n",
        "\n",
        "#line of best fit\n",
        "plt.plot(np.unique(scores[\"MAD\"]), np.poly1d(np.polyfit(scores[\"MAD\"], (1 - sim['Tanimoto']), 1))(np.unique(scores[\"MAD\"])), 'k')\n",
        "\n",
        "\n",
        "# X=Y line on the plot\n",
        "ax.set_xlabel('Error')\n",
        "ax.set_ylabel('Tanimoto Difference')\n",
        "ax.set_ylim([0, 1])\n",
        "plt.savefig(\"Sim-{}-{}-HB.png\".format(model, name), facecolor='white', dpi = 600)\n",
        "\n",
        "files.download(\"Sim-{}-{}-HB.png\".format(model, name))\n",
        "#plt.style.use('default')\n",
        "#plt.show()"
      ]
    },
    {
      "cell_type": "code",
      "execution_count": null,
      "metadata": {
        "colab": {
          "base_uri": "https://localhost:8080/",
          "height": 143
        },
        "id": "11gmStC9wOK6",
        "outputId": "febef6c7-c74b-4068-dac3-53758ecc91da"
      },
      "outputs": [
        {
          "data": {
            "text/html": [
              "\n",
              "  <div id=\"df-93d7a510-a5d6-467b-8b60-504f1d1c5ddf\">\n",
              "    <div class=\"colab-df-container\">\n",
              "      <div>\n",
              "<style scoped>\n",
              "    .dataframe tbody tr th:only-of-type {\n",
              "        vertical-align: middle;\n",
              "    }\n",
              "\n",
              "    .dataframe tbody tr th {\n",
              "        vertical-align: top;\n",
              "    }\n",
              "\n",
              "    .dataframe thead th {\n",
              "        text-align: right;\n",
              "    }\n",
              "</style>\n",
              "<table border=\"1\" class=\"dataframe\">\n",
              "  <thead>\n",
              "    <tr style=\"text-align: right;\">\n",
              "      <th></th>\n",
              "      <th>Metric</th>\n",
              "      <th>Value</th>\n",
              "    </tr>\n",
              "  </thead>\n",
              "  <tbody>\n",
              "    <tr>\n",
              "      <th>0</th>\n",
              "      <td>Pearson's r</td>\n",
              "      <td>0.025</td>\n",
              "    </tr>\n",
              "    <tr>\n",
              "      <th>1</th>\n",
              "      <td>MAE</td>\n",
              "      <td>0.635</td>\n",
              "    </tr>\n",
              "    <tr>\n",
              "      <th>2</th>\n",
              "      <td>RMSE</td>\n",
              "      <td>0.669</td>\n",
              "    </tr>\n",
              "  </tbody>\n",
              "</table>\n",
              "</div>\n",
              "      <button class=\"colab-df-convert\" onclick=\"convertToInteractive('df-93d7a510-a5d6-467b-8b60-504f1d1c5ddf')\"\n",
              "              title=\"Convert this dataframe to an interactive table.\"\n",
              "              style=\"display:none;\">\n",
              "        \n",
              "  <svg xmlns=\"http://www.w3.org/2000/svg\" height=\"24px\"viewBox=\"0 0 24 24\"\n",
              "       width=\"24px\">\n",
              "    <path d=\"M0 0h24v24H0V0z\" fill=\"none\"/>\n",
              "    <path d=\"M18.56 5.44l.94 2.06.94-2.06 2.06-.94-2.06-.94-.94-2.06-.94 2.06-2.06.94zm-11 1L8.5 8.5l.94-2.06 2.06-.94-2.06-.94L8.5 2.5l-.94 2.06-2.06.94zm10 10l.94 2.06.94-2.06 2.06-.94-2.06-.94-.94-2.06-.94 2.06-2.06.94z\"/><path d=\"M17.41 7.96l-1.37-1.37c-.4-.4-.92-.59-1.43-.59-.52 0-1.04.2-1.43.59L10.3 9.45l-7.72 7.72c-.78.78-.78 2.05 0 2.83L4 21.41c.39.39.9.59 1.41.59.51 0 1.02-.2 1.41-.59l7.78-7.78 2.81-2.81c.8-.78.8-2.07 0-2.86zM5.41 20L4 18.59l7.72-7.72 1.47 1.35L5.41 20z\"/>\n",
              "  </svg>\n",
              "      </button>\n",
              "      \n",
              "  <style>\n",
              "    .colab-df-container {\n",
              "      display:flex;\n",
              "      flex-wrap:wrap;\n",
              "      gap: 12px;\n",
              "    }\n",
              "\n",
              "    .colab-df-convert {\n",
              "      background-color: #E8F0FE;\n",
              "      border: none;\n",
              "      border-radius: 50%;\n",
              "      cursor: pointer;\n",
              "      display: none;\n",
              "      fill: #1967D2;\n",
              "      height: 32px;\n",
              "      padding: 0 0 0 0;\n",
              "      width: 32px;\n",
              "    }\n",
              "\n",
              "    .colab-df-convert:hover {\n",
              "      background-color: #E2EBFA;\n",
              "      box-shadow: 0px 1px 2px rgba(60, 64, 67, 0.3), 0px 1px 3px 1px rgba(60, 64, 67, 0.15);\n",
              "      fill: #174EA6;\n",
              "    }\n",
              "\n",
              "    [theme=dark] .colab-df-convert {\n",
              "      background-color: #3B4455;\n",
              "      fill: #D2E3FC;\n",
              "    }\n",
              "\n",
              "    [theme=dark] .colab-df-convert:hover {\n",
              "      background-color: #434B5C;\n",
              "      box-shadow: 0px 1px 3px 1px rgba(0, 0, 0, 0.15);\n",
              "      filter: drop-shadow(0px 1px 2px rgba(0, 0, 0, 0.3));\n",
              "      fill: #FFFFFF;\n",
              "    }\n",
              "  </style>\n",
              "\n",
              "      <script>\n",
              "        const buttonEl =\n",
              "          document.querySelector('#df-93d7a510-a5d6-467b-8b60-504f1d1c5ddf button.colab-df-convert');\n",
              "        buttonEl.style.display =\n",
              "          google.colab.kernel.accessAllowed ? 'block' : 'none';\n",
              "\n",
              "        async function convertToInteractive(key) {\n",
              "          const element = document.querySelector('#df-93d7a510-a5d6-467b-8b60-504f1d1c5ddf');\n",
              "          const dataTable =\n",
              "            await google.colab.kernel.invokeFunction('convertToInteractive',\n",
              "                                                     [key], {});\n",
              "          if (!dataTable) return;\n",
              "\n",
              "          const docLinkHtml = 'Like what you see? Visit the ' +\n",
              "            '<a target=\"_blank\" href=https://colab.research.google.com/notebooks/data_table.ipynb>data table notebook</a>'\n",
              "            + ' to learn more about interactive tables.';\n",
              "          element.innerHTML = '';\n",
              "          dataTable['output_type'] = 'display_data';\n",
              "          await google.colab.output.renderOutput(dataTable, element);\n",
              "          const docLink = document.createElement('div');\n",
              "          docLink.innerHTML = docLinkHtml;\n",
              "          element.appendChild(docLink);\n",
              "        }\n",
              "      </script>\n",
              "    </div>\n",
              "  </div>\n",
              "  "
            ],
            "text/plain": [
              "        Metric  Value\n",
              "0  Pearson's r  0.025\n",
              "1          MAE  0.635\n",
              "2         RMSE  0.669"
            ]
          },
          "execution_count": 11,
          "metadata": {},
          "output_type": "execute_result"
        }
      ],
      "source": [
        "### Stats ###\n",
        "pearson = stats.pearsonr(scores[\"MAD\"], (1 - sim['Tanimoto']))\n",
        "MAE = metrics.mean_absolute_error(scores[\"MAD\"], (1 - sim['Tanimoto']))\n",
        "RMSE = math.sqrt(metrics.mean_squared_error(scores[\"MAD\"], (1 - sim['Tanimoto'])))\n",
        "\n",
        "scoring = pd.DataFrame({'Metric': ['Pearson\\'s r', 'MAE', 'RMSE'], 'Value': [round(pearson[0], 3), round(MAE, 3), round(RMSE, 3)]})\n",
        "scoring\n"
      ]
    }
  ],
  "metadata": {
    "colab": {
      "provenance": []
    },
    "kernelspec": {
      "display_name": "Python 3",
      "name": "python3"
    },
    "language_info": {
      "name": "python"
    }
  },
  "nbformat": 4,
  "nbformat_minor": 0
}
