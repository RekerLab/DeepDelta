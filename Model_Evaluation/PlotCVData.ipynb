{
  "cells": [
    {
      "cell_type": "code",
      "execution_count": null,
      "metadata": {
        "id": "AF6q26B7t91J"
      },
      "outputs": [],
      "source": [
        "import pandas as pd\n",
        "import numpy as np\n",
        "import math\n",
        "import matplotlib.colors\n",
        "import matplotlib.pyplot as plt\n",
        "import matplotlib.lines as mlines\n",
        "import matplotlib.transforms as mtransforms\n",
        "from sklearn import metrics\n",
        "from scipy import stats as stats\n",
        "from google.colab import files\n",
        "%matplotlib inline "
      ]
    },
    {
      "cell_type": "code",
      "execution_count": null,
      "metadata": {},
      "outputs": [],
      "source": [
        "# Load your file as a dataframe\n",
        "\n",
        "# names = ['FUBrain', 'RenClear', 'FreeSolv', 'MicroClear', 'HemoTox', 'HepClear', 'Caco2', 'Sol', 'VDss', 'HalfLifeMWAdjusted']\n",
        "name = 'FUBrain'\n",
        "\n",
        "# 3 types of models - Random Forest, ChemProp, and DeepDelta\n",
        "\n",
        "#df = pd.read_csv(\"{}_CV_RF_trad_1.csv\".format(name))  # Random Forest\n",
        "#df = pd.read_csv(\"{}_DeepDelta_50_Epoch_Trad_1.csv\".format(name)).T  # ChemProp\n",
        "df = pd.read_csv(\"{}_DeepDelta_1.csv\".format(name)).T  # DeepDelta"
      ]
    },
    {
      "cell_type": "code",
      "execution_count": null,
      "metadata": {},
      "outputs": [],
      "source": [
        "# Rename Columns - Random Forest\n",
        "df.columns =['Ignore', 'True', 'Traditional']\n",
        "trues = df['True'].tolist()\n",
        "preds = df['Traditional'].tolist()"
      ]
    },
    {
      "cell_type": "code",
      "execution_count": null,
      "metadata": {
        "id": "Pe4m0Rpbmmk7"
      },
      "outputs": [],
      "source": [
        "# Rename Columns - ChemProp \n",
        "df.columns =['True', 'Traditional']\n",
        "trues = df['True'].tolist()\n",
        "preds = df['Traditional'].tolist()"
      ]
    },
    {
      "cell_type": "code",
      "execution_count": null,
      "metadata": {},
      "outputs": [],
      "source": [
        "# Rename Columns - DeepDelta\n",
        "df.columns =['True', 'Delta', 'Traditional']\n",
        "preds = df['Delta'].tolist()\n",
        "trues = df['True'].tolist()"
      ]
    },
    {
      "cell_type": "code",
      "execution_count": null,
      "metadata": {},
      "outputs": [],
      "source": [
        "# Plotting\n",
        "fig, ax = plt.subplots()\n",
        "ax.hexbin(trues, preds, gridsize=(100),\n",
        "                norm=matplotlib.colors.LogNorm(), mincnt=1)\n",
        "fig.colorbar(ax.hexbin(trues, preds, gridsize=(100),\n",
        "                norm=matplotlib.colors.LogNorm(), mincnt=1))\n",
        "\n",
        "# Line of best fit\n",
        "plt.plot(np.unique(trues), np.poly1d(np.polyfit(trues, preds, 1))(np.unique(trues)), 'k')\n",
        "\n",
        "i = 5 # Adjusted according to dataset variance\n",
        "\n",
        "# X=Y line on the plot\n",
        "ax.plot([-i, i], [-i, i], 'k--')\n",
        "\n",
        "ax.set_xlabel('Actual')\n",
        "ax.set_ylabel('Predicted')\n",
        "ax.set_xlim([-i, i])\n",
        "ax.set_ylim([-i, i])\n",
        "#plt.savefig(\"Delta-{}-HB.png\".format(name_2), facecolor='white', dpi = 600)\n",
        "plt.show()"
      ]
    },
    {
      "cell_type": "code",
      "execution_count": null,
      "metadata": {},
      "outputs": [],
      "source": [
        "# Stats\n",
        "pearson = stats.pearsonr(trues, preds)\n",
        "MAE = metrics.mean_absolute_error(trues,preds)\n",
        "RMSE = math.sqrt(metrics.mean_squared_error(trues, preds))\n",
        "\n",
        "scoring = pd.DataFrame({'Metric': ['Pearson\\'s r', 'MAE', 'RMSE'], 'Value': [round(pearson[0], 3), round(MAE, 3), round(RMSE, 3)]})\n",
        "scoring"
      ]
    }
  ],
  "metadata": {
    "colab": {
      "provenance": []
    },
    "kernelspec": {
      "display_name": "Python 3",
      "name": "python3"
    },
    "language_info": {
      "name": "python"
    }
  },
  "nbformat": 4,
  "nbformat_minor": 0
}
