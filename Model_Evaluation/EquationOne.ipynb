{
  "cells": [
    {
      "cell_type": "markdown",
      "metadata": {
        "id": "dBMYyWF7cvFE"
      },
      "source": [
        "Libraries/File Upload"
      ]
    },
    {
      "cell_type": "code",
      "execution_count": null,
      "metadata": {
        "id": "AF6q26B7t91J"
      },
      "outputs": [],
      "source": [
        "import pandas as pd\n",
        "import numpy as np\n",
        "import matplotlib.pyplot as plt\n",
        "import statistics\n",
        "from rdkit import Chem\n",
        "from rdkit.Chem import AllChem, DataStructs\n",
        "from rdkit.SimDivFilters.rdSimDivPickers import MaxMinPicker\n",
        "import math\n",
        "from sklearn import metrics\n",
        "from scipy import stats as stats"
      ]
    },
    {
      "cell_type": "markdown",
      "metadata": {
        "id": "AqFWqZ67csQN"
      },
      "source": [
        "Compare Accuracy for the Same Molecule"
      ]
    },
    {
      "cell_type": "code",
      "execution_count": null,
      "metadata": {},
      "outputs": [],
      "source": [
        "# Dataset loading:\n",
        "datasets = ['FUBrain', 'RenClear', 'FreeSolv', 'MicroClear', 'HemoTox', 'HepClear', 'Caco2', 'Sol', 'VDss', 'HalfLifeMWAdjusted']\n",
        "scoring = pd.DataFrame({'Metric': ['Dataset', 'MAE', 'RMSE']})\n",
        "\n",
        "i = 0\n",
        "for dataset in datasets:\n",
        "  i += 1\n",
        "  name =  dataset\n",
        "  test_set = pd.read_csv(\"{}.csv\".format(name))\n",
        "  preds = pd.read_csv(\"{}_DeepDelta_1.csv\".format(name)).T\n",
        "  preds.columns =['True', 'Delta', 'Traditional']\n",
        "\n",
        "  # Set up for cross validation\n",
        "  from sklearn.model_selection import KFold\n",
        "  cv = KFold(n_splits=10, random_state=1, shuffle=True)\n",
        "  datapoint_x = []\n",
        "  datapoint_y = []\n",
        "\n",
        "  # Cross validation training of the model\n",
        "  for train_index, test_index in cv.split(test_set):\n",
        "    train_df = test_set[test_set.index.isin(train_index)]\n",
        "    test_df = test_set[test_set.index.isin(test_index)]\n",
        "\n",
        "    pair_subset_test = pd.merge(test_df, test_df, how='cross')\n",
        "    pair_subset_test[\"True\"] = pair_subset_test.Y_x - pair_subset_test.Y_y # calculate Delta values\n",
        "    pair_subset_test.drop(['Y_x','Y_y'], axis=1, inplace=True)\n",
        "    datapoint_x += [pair_subset_test.SMILES_x]\n",
        "    datapoint_y += [pair_subset_test.SMILES_y]\n",
        "    del pair_subset_test\n",
        "\n",
        "  paired = pd.DataFrame(data={'SMILES_x':  np.concatenate(datapoint_x), 'SMILES_y':  np.concatenate(datapoint_y)})\n",
        "\n",
        "  trues = preds['True'].tolist()\n",
        "  trues = [float(i) for i in trues]\n",
        "  paired['True'] = trues\n",
        "\n",
        "  Deltas = preds['Delta']\n",
        "  Deltas = [float(i) for i in Deltas]\n",
        "  paired['Delta_preds'] = Deltas\n",
        "  \n",
        "  # Grab the matching SMILES pairs into a separate dataframe\n",
        "  final_df = pd.DataFrame(columns = ['SMILES_x', 'SMILES_y', 'True', 'Delta_preds'])\n",
        "  for i in range(len(paired)):\n",
        "    if paired['SMILES_x'][i] == paired['SMILES_y'][i]:\n",
        "      inter_df = pd.DataFrame({'SMILES_x': [paired['SMILES_x'][i]], 'SMILES_y': [paired['SMILES_y'][i]], 'True': [paired['True'][i]], 'Delta_preds': [paired['Delta_preds'][i]]})\n",
        "      final_df = pd.concat([final_df, inter_df])\n",
        "\n",
        "  # Score matching SMILES pairs\n",
        "  MAE = metrics.mean_absolute_error(final_df['True'],final_df['Delta_preds'])\n",
        "  RMSE = math.sqrt(metrics.mean_squared_error(final_df['True'], final_df['Delta_preds']))\n",
        "  scoring[i] = [name, round(MAE, 3), round(RMSE, 3)]\n",
        "\n",
        "scoring"
      ]
    }
  ],
  "metadata": {
    "colab": {
      "provenance": []
    },
    "kernelspec": {
      "display_name": "Python 3",
      "name": "python3"
    },
    "language_info": {
      "name": "python"
    }
  },
  "nbformat": 4,
  "nbformat_minor": 0
}
