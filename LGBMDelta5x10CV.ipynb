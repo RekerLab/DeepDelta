{
  "cells": [
    {
      "cell_type": "code",
      "execution_count": null,
      "metadata": {
        "id": "AF6q26B7t91J"
      },
      "outputs": [],
      "source": [
        "#Import Libraries\n",
        "import pandas as pd\n",
        "import numpy as np\n",
        "from rdkit import Chem\n",
        "from rdkit.Chem import AllChem\n",
        "import pickle\n",
        "import math\n",
        "import matplotlib.colors\n",
        "import matplotlib.pyplot as plt\n",
        "import matplotlib.lines as mlines\n",
        "import matplotlib.transforms as mtransforms\n",
        "from sklearn import metrics\n",
        "from scipy import stats as stats\n",
        "from google.colab import files\n",
        "from sklearn.model_selection import KFold\n",
        "import warnings\n",
        "import gc\n",
        "%matplotlib inline "
      ]
    },
    {
      "cell_type": "code",
      "execution_count": null,
      "metadata": {
        "id": "6cwYN6pV2ILm"
      },
      "outputs": [],
      "source": [
        "###dataset loading:\n",
        "# names = ['FUBrain', 'RenClear', 'FreeSolv', 'MicroClear', 'HemoTox', 'HepClear', 'Caco2', 'Sol', 'VDss', 'HalfLifeMWAdjusted']\n",
        "name = 'MicroClear'\n",
        "dataframe = pd.read_csv(\"{}.csv\".format(name))\n",
        "\n",
        "# process data\n",
        "mols = [Chem.MolFromSmiles(s) for s in dataframe.SMILES]\n",
        "fps = [np.array(AllChem.GetMorganFingerprintAsBitVect(m,2)) for m in mols]\n",
        "dataframe[\"Molecule\"] = mols\n",
        "dataframe[\"Fingerprint\"] = fps\n",
        "\n",
        "data = pd.DataFrame(data={'Fingerprint': list(np.array(fps).astype(bool)), 'Y':  dataframe.Y.to_numpy()})\n",
        "del dataframe\n",
        "\n",
        "# Model Loading\n",
        "from lightgbm import LGBMRegressor as lgb\n",
        "model = lgb(subsample=0.1, subsample_freq = 1)"
      ]
    },
    {
      "cell_type": "code",
      "execution_count": null,
      "metadata": {
        "colab": {
          "base_uri": "https://localhost:8080/",
          "height": 989
        },
        "id": "HvHgc3WZLZlV",
        "outputId": "6dd747da-f992-410a-fa81-c8bd32a7dc63"
      },
      "outputs": [
        {
          "name": "stdout",
          "output_type": "stream",
          "text": [
            " Finished 10.0% of round 0\n",
            " Finished 20.0% of round 0\n",
            " Finished 30.0% of round 0\n",
            " Finished 40.0% of round 0\n",
            " Finished 50.0% of round 0\n",
            " Finished 60.0% of round 0\n",
            " Finished 70.0% of round 0\n",
            " Finished 80.0% of round 0\n",
            " Finished 90.0% of round 0\n",
            " Finished 100.0% of round 0\n"
          ]
        },
        {
          "data": {
            "application/javascript": "\n    async function download(id, filename, size) {\n      if (!google.colab.kernel.accessAllowed) {\n        return;\n      }\n      const div = document.createElement('div');\n      const label = document.createElement('label');\n      label.textContent = `Downloading \"${filename}\": `;\n      div.appendChild(label);\n      const progress = document.createElement('progress');\n      progress.max = size;\n      div.appendChild(progress);\n      document.body.appendChild(div);\n\n      const buffers = [];\n      let downloaded = 0;\n\n      const channel = await google.colab.kernel.comms.open(id);\n      // Send a message to notify the kernel that we're ready.\n      channel.send({})\n\n      for await (const message of channel.messages) {\n        // Send a message to notify the kernel that we're ready.\n        channel.send({})\n        if (message.buffers) {\n          for (const buffer of message.buffers) {\n            buffers.push(buffer);\n            downloaded += buffer.byteLength;\n            progress.value = downloaded;\n          }\n        }\n      }\n      const blob = new Blob(buffers, {type: 'application/binary'});\n      const a = document.createElement('a');\n      a.href = window.URL.createObjectURL(blob);\n      a.download = filename;\n      div.appendChild(a);\n      a.click();\n      div.remove();\n    }\n  ",
            "text/plain": [
              "<IPython.core.display.Javascript object>"
            ]
          },
          "metadata": {},
          "output_type": "display_data"
        },
        {
          "data": {
            "application/javascript": "download(\"download_a4ca06b2-6f4c-4b9b-90bd-658606793585\", \"MicroClear_CV_LGBM_Delta_0.csv\", 2011418)",
            "text/plain": [
              "<IPython.core.display.Javascript object>"
            ]
          },
          "metadata": {},
          "output_type": "display_data"
        },
        {
          "name": "stdout",
          "output_type": "stream",
          "text": [
            " Finished 10.0% of round 1\n",
            " Finished 20.0% of round 1\n",
            " Finished 30.0% of round 1\n",
            " Finished 40.0% of round 1\n",
            " Finished 50.0% of round 1\n",
            " Finished 60.0% of round 1\n",
            " Finished 70.0% of round 1\n",
            " Finished 80.0% of round 1\n",
            " Finished 90.0% of round 1\n",
            " Finished 100.0% of round 1\n"
          ]
        },
        {
          "data": {
            "application/javascript": "\n    async function download(id, filename, size) {\n      if (!google.colab.kernel.accessAllowed) {\n        return;\n      }\n      const div = document.createElement('div');\n      const label = document.createElement('label');\n      label.textContent = `Downloading \"${filename}\": `;\n      div.appendChild(label);\n      const progress = document.createElement('progress');\n      progress.max = size;\n      div.appendChild(progress);\n      document.body.appendChild(div);\n\n      const buffers = [];\n      let downloaded = 0;\n\n      const channel = await google.colab.kernel.comms.open(id);\n      // Send a message to notify the kernel that we're ready.\n      channel.send({})\n\n      for await (const message of channel.messages) {\n        // Send a message to notify the kernel that we're ready.\n        channel.send({})\n        if (message.buffers) {\n          for (const buffer of message.buffers) {\n            buffers.push(buffer);\n            downloaded += buffer.byteLength;\n            progress.value = downloaded;\n          }\n        }\n      }\n      const blob = new Blob(buffers, {type: 'application/binary'});\n      const a = document.createElement('a');\n      a.href = window.URL.createObjectURL(blob);\n      a.download = filename;\n      div.appendChild(a);\n      a.click();\n      div.remove();\n    }\n  ",
            "text/plain": [
              "<IPython.core.display.Javascript object>"
            ]
          },
          "metadata": {},
          "output_type": "display_data"
        },
        {
          "data": {
            "application/javascript": "download(\"download_dde438fc-651d-4808-8e84-0b7255cc589f\", \"MicroClear_CV_LGBM_Delta_1.csv\", 2012514)",
            "text/plain": [
              "<IPython.core.display.Javascript object>"
            ]
          },
          "metadata": {},
          "output_type": "display_data"
        },
        {
          "name": "stdout",
          "output_type": "stream",
          "text": [
            " Finished 10.0% of round 2\n",
            " Finished 20.0% of round 2\n",
            " Finished 30.0% of round 2\n",
            " Finished 40.0% of round 2\n",
            " Finished 50.0% of round 2\n",
            " Finished 60.0% of round 2\n",
            " Finished 70.0% of round 2\n",
            " Finished 80.0% of round 2\n",
            " Finished 90.0% of round 2\n",
            " Finished 100.0% of round 2\n"
          ]
        },
        {
          "data": {
            "application/javascript": "\n    async function download(id, filename, size) {\n      if (!google.colab.kernel.accessAllowed) {\n        return;\n      }\n      const div = document.createElement('div');\n      const label = document.createElement('label');\n      label.textContent = `Downloading \"${filename}\": `;\n      div.appendChild(label);\n      const progress = document.createElement('progress');\n      progress.max = size;\n      div.appendChild(progress);\n      document.body.appendChild(div);\n\n      const buffers = [];\n      let downloaded = 0;\n\n      const channel = await google.colab.kernel.comms.open(id);\n      // Send a message to notify the kernel that we're ready.\n      channel.send({})\n\n      for await (const message of channel.messages) {\n        // Send a message to notify the kernel that we're ready.\n        channel.send({})\n        if (message.buffers) {\n          for (const buffer of message.buffers) {\n            buffers.push(buffer);\n            downloaded += buffer.byteLength;\n            progress.value = downloaded;\n          }\n        }\n      }\n      const blob = new Blob(buffers, {type: 'application/binary'});\n      const a = document.createElement('a');\n      a.href = window.URL.createObjectURL(blob);\n      a.download = filename;\n      div.appendChild(a);\n      a.click();\n      div.remove();\n    }\n  ",
            "text/plain": [
              "<IPython.core.display.Javascript object>"
            ]
          },
          "metadata": {},
          "output_type": "display_data"
        },
        {
          "data": {
            "application/javascript": "download(\"download_c1ab88c8-0794-481d-ae2d-fe767d491804\", \"MicroClear_CV_LGBM_Delta_2.csv\", 2014080)",
            "text/plain": [
              "<IPython.core.display.Javascript object>"
            ]
          },
          "metadata": {},
          "output_type": "display_data"
        },
        {
          "name": "stdout",
          "output_type": "stream",
          "text": [
            " Finished 10.0% of round 3\n",
            " Finished 20.0% of round 3\n",
            " Finished 30.0% of round 3\n",
            " Finished 40.0% of round 3\n",
            " Finished 50.0% of round 3\n",
            " Finished 60.0% of round 3\n",
            " Finished 70.0% of round 3\n",
            " Finished 80.0% of round 3\n",
            " Finished 90.0% of round 3\n",
            " Finished 100.0% of round 3\n"
          ]
        },
        {
          "data": {
            "application/javascript": "\n    async function download(id, filename, size) {\n      if (!google.colab.kernel.accessAllowed) {\n        return;\n      }\n      const div = document.createElement('div');\n      const label = document.createElement('label');\n      label.textContent = `Downloading \"${filename}\": `;\n      div.appendChild(label);\n      const progress = document.createElement('progress');\n      progress.max = size;\n      div.appendChild(progress);\n      document.body.appendChild(div);\n\n      const buffers = [];\n      let downloaded = 0;\n\n      const channel = await google.colab.kernel.comms.open(id);\n      // Send a message to notify the kernel that we're ready.\n      channel.send({})\n\n      for await (const message of channel.messages) {\n        // Send a message to notify the kernel that we're ready.\n        channel.send({})\n        if (message.buffers) {\n          for (const buffer of message.buffers) {\n            buffers.push(buffer);\n            downloaded += buffer.byteLength;\n            progress.value = downloaded;\n          }\n        }\n      }\n      const blob = new Blob(buffers, {type: 'application/binary'});\n      const a = document.createElement('a');\n      a.href = window.URL.createObjectURL(blob);\n      a.download = filename;\n      div.appendChild(a);\n      a.click();\n      div.remove();\n    }\n  ",
            "text/plain": [
              "<IPython.core.display.Javascript object>"
            ]
          },
          "metadata": {},
          "output_type": "display_data"
        },
        {
          "data": {
            "application/javascript": "download(\"download_1e1c8f36-0556-4056-9e80-1d645585a917\", \"MicroClear_CV_LGBM_Delta_3.csv\", 2013087)",
            "text/plain": [
              "<IPython.core.display.Javascript object>"
            ]
          },
          "metadata": {},
          "output_type": "display_data"
        },
        {
          "name": "stdout",
          "output_type": "stream",
          "text": [
            " Finished 10.0% of round 4\n",
            " Finished 20.0% of round 4\n",
            " Finished 30.0% of round 4\n",
            " Finished 40.0% of round 4\n",
            " Finished 50.0% of round 4\n",
            " Finished 60.0% of round 4\n",
            " Finished 70.0% of round 4\n",
            " Finished 80.0% of round 4\n",
            " Finished 90.0% of round 4\n",
            " Finished 100.0% of round 4\n"
          ]
        },
        {
          "data": {
            "application/javascript": "\n    async function download(id, filename, size) {\n      if (!google.colab.kernel.accessAllowed) {\n        return;\n      }\n      const div = document.createElement('div');\n      const label = document.createElement('label');\n      label.textContent = `Downloading \"${filename}\": `;\n      div.appendChild(label);\n      const progress = document.createElement('progress');\n      progress.max = size;\n      div.appendChild(progress);\n      document.body.appendChild(div);\n\n      const buffers = [];\n      let downloaded = 0;\n\n      const channel = await google.colab.kernel.comms.open(id);\n      // Send a message to notify the kernel that we're ready.\n      channel.send({})\n\n      for await (const message of channel.messages) {\n        // Send a message to notify the kernel that we're ready.\n        channel.send({})\n        if (message.buffers) {\n          for (const buffer of message.buffers) {\n            buffers.push(buffer);\n            downloaded += buffer.byteLength;\n            progress.value = downloaded;\n          }\n        }\n      }\n      const blob = new Blob(buffers, {type: 'application/binary'});\n      const a = document.createElement('a');\n      a.href = window.URL.createObjectURL(blob);\n      a.download = filename;\n      div.appendChild(a);\n      a.click();\n      div.remove();\n    }\n  ",
            "text/plain": [
              "<IPython.core.display.Javascript object>"
            ]
          },
          "metadata": {},
          "output_type": "display_data"
        },
        {
          "data": {
            "application/javascript": "download(\"download_4661901b-ccd9-4260-8cbe-4c04ee4df0ea\", \"MicroClear_CV_LGBM_Delta_4.csv\", 2011893)",
            "text/plain": [
              "<IPython.core.display.Javascript object>"
            ]
          },
          "metadata": {},
          "output_type": "display_data"
        },
        {
          "data": {
            "application/javascript": "\n    async function download(id, filename, size) {\n      if (!google.colab.kernel.accessAllowed) {\n        return;\n      }\n      const div = document.createElement('div');\n      const label = document.createElement('label');\n      label.textContent = `Downloading \"${filename}\": `;\n      div.appendChild(label);\n      const progress = document.createElement('progress');\n      progress.max = size;\n      div.appendChild(progress);\n      document.body.appendChild(div);\n\n      const buffers = [];\n      let downloaded = 0;\n\n      const channel = await google.colab.kernel.comms.open(id);\n      // Send a message to notify the kernel that we're ready.\n      channel.send({})\n\n      for await (const message of channel.messages) {\n        // Send a message to notify the kernel that we're ready.\n        channel.send({})\n        if (message.buffers) {\n          for (const buffer of message.buffers) {\n            buffers.push(buffer);\n            downloaded += buffer.byteLength;\n            progress.value = downloaded;\n          }\n        }\n      }\n      const blob = new Blob(buffers, {type: 'application/binary'});\n      const a = document.createElement('a');\n      a.href = window.URL.createObjectURL(blob);\n      a.download = filename;\n      div.appendChild(a);\n      a.click();\n      div.remove();\n    }\n  ",
            "text/plain": [
              "<IPython.core.display.Javascript object>"
            ]
          },
          "metadata": {},
          "output_type": "display_data"
        },
        {
          "data": {
            "application/javascript": "download(\"download_cd1fcf0f-0dd2-4e93-87bf-5e306797265f\", \"MicroClear_CV_LGBM_Delta_Scoring.csv\", 182)",
            "text/plain": [
              "<IPython.core.display.Javascript object>"
            ]
          },
          "metadata": {},
          "output_type": "display_data"
        }
      ],
      "source": [
        "# Dataframe to store the results\n",
        "delta = pd.DataFrame(columns=['Pearson\\'s r', 'MAE', 'RMSE'])\n",
        "\n",
        "for iter in range(5):\n",
        "\n",
        "  # Set up for cross validation\n",
        "  cv = KFold(n_splits=10, random_state=iter, shuffle=True)\n",
        "\n",
        "  # use garbage collection to save on space\n",
        "  gc.collect()\n",
        "  warnings.filterwarnings(action='once')\n",
        "\n",
        "  # Cross validation training of the model\n",
        "  preds = []\n",
        "  trues = []\n",
        "  cnt = 0.0\n",
        "  for train_index, test_index in cv.split(data):\n",
        "    cnt += 1\n",
        "    train_df = data[data.index.isin(train_index)]\n",
        "    test_df = data[data.index.isin(test_index)]\n",
        "\n",
        "    pair_subset_train = pd.merge(train_df, train_df, how='cross')\n",
        "    pair_subset_train[\"Fingerprint\"] =  pair_subset_train.Fingerprint_x.combine(pair_subset_train.Fingerprint_y, np.append) # concatenate ExplicitBitVec objects from RDKIT\n",
        "    pair_subset_train[\"Delta\"] = pair_subset_train.Y_x - pair_subset_train.Y_y # calculate Delta values\n",
        "    pair_subset_train.drop(['Fingerprint_x','Fingerprint_y','Y_x','Y_y'], axis=1, inplace=True)\n",
        "\n",
        "    pair_subset_test = pd.merge(test_df, test_df, how='cross')\n",
        "    pair_subset_test[\"Fingerprint\"] =  pair_subset_test.Fingerprint_x.combine(pair_subset_test.Fingerprint_y, np.append) # concatenate ExplicitBitVec objects from RDKIT\n",
        "    pair_subset_test[\"Delta\"] = pair_subset_test.Y_x - pair_subset_test.Y_y # calculate Delta values\n",
        "    pair_subset_test.drop(['Fingerprint_x','Fingerprint_y','Y_x','Y_y'], axis=1, inplace=True)\n",
        "\n",
        "    model.fit(np.vstack(pair_subset_train.Fingerprint.to_numpy()),pair_subset_train.Delta) # fit model on pair training data\n",
        "    del pair_subset_train\n",
        "    preds += [model.predict(np.vstack(pair_subset_test.Fingerprint.to_numpy()))] #predict \n",
        "    trues += [pair_subset_test.Delta]\n",
        "    del pair_subset_test\n",
        "    print(\" Finished \" + str(cnt / 10 * 100) + \"% of round \" + str(iter) )\n",
        "      \n",
        "\n",
        "  # Export the csv from cross validation\n",
        "  # list of name, degree, score\n",
        "  Trues = np.concatenate(trues)\n",
        "  Preds = np.concatenate(preds)\n",
        "  # dictionary of lists \n",
        "  dict = {'trues': Trues, 'preds': Preds}     \n",
        "  dataframe = pd.DataFrame(dict)\n",
        "  # export\n",
        "  dataframe.to_csv('{}_CV_LGBM_Delta_{}.csv'.format(name, iter), index = False)\n",
        "  files.download(\"{}_CV_LGBM_Delta_{}.csv\".format(name, iter))    \n",
        "\n",
        "  # Calculate Stats\n",
        "  pearson = stats.pearsonr(Trues, Preds)\n",
        "  MAE = metrics.mean_absolute_error(Trues, Preds)\n",
        "  RMSE = math.sqrt(metrics.mean_squared_error(Trues, Preds))\n",
        "  scoring = pd.DataFrame({'Pearson\\'s r': [round(pearson[0], 4)], 'MAE': [round(MAE, 4)], 'RMSE': [round(RMSE, 4)]})\n",
        "  delta = delta.append(scoring)\n",
        "\n",
        "# Calculate overall stats\n",
        "average = pd.DataFrame({'Pearson\\'s r': [round(np.mean(delta['Pearson\\'s r']), 3)], 'MAE': [round(np.mean(delta['MAE']), 3)], 'RMSE': [round(np.mean(delta['RMSE']), 3)]})\n",
        "std = pd.DataFrame({'Pearson\\'s r': [round(np.std(delta['Pearson\\'s r']), 3)], 'MAE': [round(np.std(delta['MAE']), 3)], 'RMSE': [round(np.std(delta['RMSE']), 3)]})\n",
        "delta = delta.append(average)\n",
        "delta = delta.append(std)\n",
        "delta = delta.set_index([pd.Index([1, 2, 3, 4, 5, 'Avg', 'Std. Dev.'])])\n",
        "delta.to_csv(\"{}_CV_LGBM_Delta_Scoring.csv\".format(name))\n",
        "files.download(\"{}_CV_LGBM_Delta_Scoring.csv\".format(name))\n"
      ]
    },
    {
      "cell_type": "code",
      "execution_count": null,
      "metadata": {
        "colab": {
          "base_uri": "https://localhost:8080/",
          "height": 283
        },
        "id": "bAJEv7ZnoUBd",
        "outputId": "8b50d172-4776-41a4-abd1-62fe9de0b5db"
      },
      "outputs": [
        {
          "data": {
            "image/png": "[encoded data removed]",
            "text/plain": [
              "<Figure size 432x288 with 2 Axes>"
            ]
          },
          "metadata": {
            "needs_background": "light"
          },
          "output_type": "display_data"
        }
      ],
      "source": [
        "fig, ax = plt.subplots()\n",
        "\n",
        "ax.hexbin(np.concatenate(trues), np.concatenate(preds), gridsize=(100),\n",
        "                norm=matplotlib.colors.LogNorm(), mincnt=1)\n",
        "fig.colorbar(ax.hexbin(np.concatenate(trues), np.concatenate(preds), gridsize=(100),\n",
        "                norm=matplotlib.colors.LogNorm(), mincnt=1))\n",
        "\n",
        "#line of best fit\n",
        "a, b = np.polyfit(np.concatenate(trues), np.concatenate(preds), 1)\n",
        "plt.plot(np.concatenate(trues), a*np.concatenate(trues)+b, 'k')\n",
        "\n",
        "\n",
        "i = 30\n",
        "# X=Y line on the plot\n",
        "ax.plot([-i, i], [-i, i], 'k--')\n",
        "ax.set_xlabel('Actual')\n",
        "ax.set_ylabel('Predicted')\n",
        "ax.set_xlim([-i, i])\n",
        "ax.set_ylim([-i, i])\n",
        "fig.show()\n"
      ]
    },
    {
      "cell_type": "code",
      "execution_count": null,
      "metadata": {
        "colab": {
          "base_uri": "https://localhost:8080/",
          "height": 143
        },
        "id": "11gmStC9wOK6",
        "outputId": "6d24ce01-9de3-4f1b-c7e3-ab6faf48e00e"
      },
      "outputs": [
        {
          "data": {
            "text/html": [
              "\n",
              "  <div id=\"df-c63d2b5b-767f-476f-a385-3aaaa7525f52\">\n",
              "    <div class=\"colab-df-container\">\n",
              "      <div>\n",
              "<style scoped>\n",
              "    .dataframe tbody tr th:only-of-type {\n",
              "        vertical-align: middle;\n",
              "    }\n",
              "\n",
              "    .dataframe tbody tr th {\n",
              "        vertical-align: top;\n",
              "    }\n",
              "\n",
              "    .dataframe thead th {\n",
              "        text-align: right;\n",
              "    }\n",
              "</style>\n",
              "<table border=\"1\" class=\"dataframe\">\n",
              "  <thead>\n",
              "    <tr style=\"text-align: right;\">\n",
              "      <th></th>\n",
              "      <th>Metric</th>\n",
              "      <th>Value</th>\n",
              "    </tr>\n",
              "  </thead>\n",
              "  <tbody>\n",
              "    <tr>\n",
              "      <th>0</th>\n",
              "      <td>Pearson's r</td>\n",
              "      <td>0.896</td>\n",
              "    </tr>\n",
              "    <tr>\n",
              "      <th>1</th>\n",
              "      <td>MAE</td>\n",
              "      <td>1.690</td>\n",
              "    </tr>\n",
              "    <tr>\n",
              "      <th>2</th>\n",
              "      <td>RMSE</td>\n",
              "      <td>2.442</td>\n",
              "    </tr>\n",
              "  </tbody>\n",
              "</table>\n",
              "</div>\n",
              "      <button class=\"colab-df-convert\" onclick=\"convertToInteractive('df-c63d2b5b-767f-476f-a385-3aaaa7525f52')\"\n",
              "              title=\"Convert this dataframe to an interactive table.\"\n",
              "              style=\"display:none;\">\n",
              "        \n",
              "  <svg xmlns=\"http://www.w3.org/2000/svg\" height=\"24px\"viewBox=\"0 0 24 24\"\n",
              "       width=\"24px\">\n",
              "    <path d=\"M0 0h24v24H0V0z\" fill=\"none\"/>\n",
              "    <path d=\"M18.56 5.44l.94 2.06.94-2.06 2.06-.94-2.06-.94-.94-2.06-.94 2.06-2.06.94zm-11 1L8.5 8.5l.94-2.06 2.06-.94-2.06-.94L8.5 2.5l-.94 2.06-2.06.94zm10 10l.94 2.06.94-2.06 2.06-.94-2.06-.94-.94-2.06-.94 2.06-2.06.94z\"/><path d=\"M17.41 7.96l-1.37-1.37c-.4-.4-.92-.59-1.43-.59-.52 0-1.04.2-1.43.59L10.3 9.45l-7.72 7.72c-.78.78-.78 2.05 0 2.83L4 21.41c.39.39.9.59 1.41.59.51 0 1.02-.2 1.41-.59l7.78-7.78 2.81-2.81c.8-.78.8-2.07 0-2.86zM5.41 20L4 18.59l7.72-7.72 1.47 1.35L5.41 20z\"/>\n",
              "  </svg>\n",
              "      </button>\n",
              "      \n",
              "  <style>\n",
              "    .colab-df-container {\n",
              "      display:flex;\n",
              "      flex-wrap:wrap;\n",
              "      gap: 12px;\n",
              "    }\n",
              "\n",
              "    .colab-df-convert {\n",
              "      background-color: #E8F0FE;\n",
              "      border: none;\n",
              "      border-radius: 50%;\n",
              "      cursor: pointer;\n",
              "      display: none;\n",
              "      fill: #1967D2;\n",
              "      height: 32px;\n",
              "      padding: 0 0 0 0;\n",
              "      width: 32px;\n",
              "    }\n",
              "\n",
              "    .colab-df-convert:hover {\n",
              "      background-color: #E2EBFA;\n",
              "      box-shadow: 0px 1px 2px rgba(60, 64, 67, 0.3), 0px 1px 3px 1px rgba(60, 64, 67, 0.15);\n",
              "      fill: #174EA6;\n",
              "    }\n",
              "\n",
              "    [theme=dark] .colab-df-convert {\n",
              "      background-color: #3B4455;\n",
              "      fill: #D2E3FC;\n",
              "    }\n",
              "\n",
              "    [theme=dark] .colab-df-convert:hover {\n",
              "      background-color: #434B5C;\n",
              "      box-shadow: 0px 1px 3px 1px rgba(0, 0, 0, 0.15);\n",
              "      filter: drop-shadow(0px 1px 2px rgba(0, 0, 0, 0.3));\n",
              "      fill: #FFFFFF;\n",
              "    }\n",
              "  </style>\n",
              "\n",
              "      <script>\n",
              "        const buttonEl =\n",
              "          document.querySelector('#df-c63d2b5b-767f-476f-a385-3aaaa7525f52 button.colab-df-convert');\n",
              "        buttonEl.style.display =\n",
              "          google.colab.kernel.accessAllowed ? 'block' : 'none';\n",
              "\n",
              "        async function convertToInteractive(key) {\n",
              "          const element = document.querySelector('#df-c63d2b5b-767f-476f-a385-3aaaa7525f52');\n",
              "          const dataTable =\n",
              "            await google.colab.kernel.invokeFunction('convertToInteractive',\n",
              "                                                     [key], {});\n",
              "          if (!dataTable) return;\n",
              "\n",
              "          const docLinkHtml = 'Like what you see? Visit the ' +\n",
              "            '<a target=\"_blank\" href=https://colab.research.google.com/notebooks/data_table.ipynb>data table notebook</a>'\n",
              "            + ' to learn more about interactive tables.';\n",
              "          element.innerHTML = '';\n",
              "          dataTable['output_type'] = 'display_data';\n",
              "          await google.colab.output.renderOutput(dataTable, element);\n",
              "          const docLink = document.createElement('div');\n",
              "          docLink.innerHTML = docLinkHtml;\n",
              "          element.appendChild(docLink);\n",
              "        }\n",
              "      </script>\n",
              "    </div>\n",
              "  </div>\n",
              "  "
            ],
            "text/plain": [
              "        Metric  Value\n",
              "0  Pearson's r  0.896\n",
              "1          MAE  1.690\n",
              "2         RMSE  2.442"
            ]
          },
          "execution_count": 5,
          "metadata": {},
          "output_type": "execute_result"
        }
      ],
      "source": [
        "pearson = stats.pearsonr(np.concatenate(trues), np.concatenate(preds))\n",
        "MAE = metrics.mean_absolute_error(np.concatenate(trues),np.concatenate(preds))\n",
        "RMSE = math.sqrt(metrics.mean_squared_error(np.concatenate(trues), np.concatenate(preds)))\n",
        "\n",
        "scoring = pd.DataFrame({'Metric': ['Pearson\\'s r', 'MAE', 'RMSE'], 'Value': [round(pearson[0], 3), round(MAE, 3), round(RMSE, 3)]})\n",
        "scoring\n"
      ]
    },
    {
      "cell_type": "code",
      "execution_count": null,
      "metadata": {
        "id": "TJF56nLTE-sp"
      },
      "outputs": [],
      "source": [
        "#Train model on the entire dataset\n",
        "full_data = pd.merge(data, data, how='cross')\n",
        "full_data[\"Fingerprint\"] =  full_data.Fingerprint_x.combine(full_data.Fingerprint_y, np.append) # concatenate ExplicitBitVec objects from RDKIT\n",
        "full_data[\"Delta\"] = full_data.Y_x - full_data.Y_y # calculate Delta values\n",
        "full_data.drop(['Fingerprint_x','Fingerprint_y','Y_x','Y_y'], axis=1, inplace=True)\n",
        "model.fit(np.vstack(full_data.Fingerprint.to_numpy()),full_data.Delta) \n",
        "\n",
        "# Save the model to be referenced later\n",
        "filename = 'LGBM_delta_{}.sav'.format(name)\n",
        "pickle.dump(model, open(filename, 'wb'))"
      ]
    }
  ],
  "metadata": {
    "colab": {
      "provenance": []
    },
    "kernelspec": {
      "display_name": "Python 3",
      "name": "python3"
    },
    "language_info": {
      "name": "python"
    }
  },
  "nbformat": 4,
  "nbformat_minor": 0
}
